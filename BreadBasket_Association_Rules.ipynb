{
  "nbformat": 4,
  "nbformat_minor": 0,
  "metadata": {
    "colab": {
      "provenance": [],
      "include_colab_link": true
    },
    "kernelspec": {
      "name": "python3",
      "display_name": "Python 3"
    },
    "language_info": {
      "name": "python"
    }
  },
  "cells": [
    {
      "cell_type": "markdown",
      "metadata": {
        "id": "view-in-github",
        "colab_type": "text"
      },
      "source": [
        "<a href=\"https://colab.research.google.com/github/KHerbert719/Breadbasket-Recommender-System/blob/main/BreadBasket_Association_Rules.ipynb\" target=\"_parent\"><img src=\"https://colab.research.google.com/assets/colab-badge.svg\" alt=\"Open In Colab\"/></a>"
      ]
    },
    {
      "cell_type": "code",
      "source": [
        "# Code to import Bakery Dataset and generate recommendation rules (market basket analysis algorithm)\n",
        "# Code reads BreadBasket_DMS.csv file with bakery transactions\n",
        "# Runs apriori algorithm (market basket analysis) recommender\n",
        "# Generates rules for \"if customer has this in their cart, they might like that\"\n",
        "# Filters rules to just the ones we want for our outfile\n",
        "# Writes a .csv outfile called association_rules_OUTPUT.csv\n",
        "# That output file can then be downloaded and imported to Tableau for visualization"
      ],
      "metadata": {
        "id": "V24GkFgof_Cd"
      },
      "execution_count": null,
      "outputs": []
    },
    {
      "cell_type": "code",
      "execution_count": null,
      "metadata": {
        "colab": {
          "base_uri": "https://localhost:8080/"
        },
        "id": "R_q2p0WKd4Mm",
        "outputId": "e7e6d812-b5a0-489d-b4f0-38be2784c629"
      },
      "outputs": [
        {
          "output_type": "stream",
          "name": "stdout",
          "text": [
            "Requirement already satisfied: mlxtend in /usr/local/lib/python3.11/dist-packages (0.23.4)\n",
            "Requirement already satisfied: scipy>=1.2.1 in /usr/local/lib/python3.11/dist-packages (from mlxtend) (1.13.1)\n",
            "Requirement already satisfied: numpy>=1.16.2 in /usr/local/lib/python3.11/dist-packages (from mlxtend) (1.26.4)\n",
            "Requirement already satisfied: pandas>=0.24.2 in /usr/local/lib/python3.11/dist-packages (from mlxtend) (2.2.2)\n",
            "Requirement already satisfied: scikit-learn>=1.3.1 in /usr/local/lib/python3.11/dist-packages (from mlxtend) (1.6.1)\n",
            "Requirement already satisfied: matplotlib>=3.0.0 in /usr/local/lib/python3.11/dist-packages (from mlxtend) (3.10.0)\n",
            "Requirement already satisfied: joblib>=0.13.2 in /usr/local/lib/python3.11/dist-packages (from mlxtend) (1.4.2)\n",
            "Requirement already satisfied: contourpy>=1.0.1 in /usr/local/lib/python3.11/dist-packages (from matplotlib>=3.0.0->mlxtend) (1.3.1)\n",
            "Requirement already satisfied: cycler>=0.10 in /usr/local/lib/python3.11/dist-packages (from matplotlib>=3.0.0->mlxtend) (0.12.1)\n",
            "Requirement already satisfied: fonttools>=4.22.0 in /usr/local/lib/python3.11/dist-packages (from matplotlib>=3.0.0->mlxtend) (4.55.8)\n",
            "Requirement already satisfied: kiwisolver>=1.3.1 in /usr/local/lib/python3.11/dist-packages (from matplotlib>=3.0.0->mlxtend) (1.4.8)\n",
            "Requirement already satisfied: packaging>=20.0 in /usr/local/lib/python3.11/dist-packages (from matplotlib>=3.0.0->mlxtend) (24.2)\n",
            "Requirement already satisfied: pillow>=8 in /usr/local/lib/python3.11/dist-packages (from matplotlib>=3.0.0->mlxtend) (11.1.0)\n",
            "Requirement already satisfied: pyparsing>=2.3.1 in /usr/local/lib/python3.11/dist-packages (from matplotlib>=3.0.0->mlxtend) (3.2.1)\n",
            "Requirement already satisfied: python-dateutil>=2.7 in /usr/local/lib/python3.11/dist-packages (from matplotlib>=3.0.0->mlxtend) (2.8.2)\n",
            "Requirement already satisfied: pytz>=2020.1 in /usr/local/lib/python3.11/dist-packages (from pandas>=0.24.2->mlxtend) (2025.1)\n",
            "Requirement already satisfied: tzdata>=2022.7 in /usr/local/lib/python3.11/dist-packages (from pandas>=0.24.2->mlxtend) (2025.1)\n",
            "Requirement already satisfied: threadpoolctl>=3.1.0 in /usr/local/lib/python3.11/dist-packages (from scikit-learn>=1.3.1->mlxtend) (3.5.0)\n",
            "Requirement already satisfied: six>=1.5 in /usr/local/lib/python3.11/dist-packages (from python-dateutil>=2.7->matplotlib>=3.0.0->mlxtend) (1.17.0)\n"
          ]
        }
      ],
      "source": [
        "!pip install mlxtend\n"
      ]
    },
    {
      "cell_type": "code",
      "source": [
        "# Run association rules - filter out and only present rules which meet our criteria for 'good' rules\n",
        "\n",
        "import os\n",
        "\n",
        "import pandas as pd\n",
        "from mlxtend.frequent_patterns import apriori\n",
        "from mlxtend.frequent_patterns import association_rules\n",
        "\n",
        "from datetime import datetime\n",
        "\n",
        "# Load the CSV file into a Pandas DataFrame\n",
        "data = pd.read_csv('BreadBasket_DMS.csv')\n",
        "\n",
        "# Data preprocessing\n",
        "# Remove any leading/trailing spaces in item names\n",
        "data['Item'] = data['Item'].str.strip()\n",
        "\n",
        "# Remove rows where the item contains 'NONE' or 'Adjustment'\n",
        "data = data[~data['Item'].str.contains('NONE|Adjustment')]\n",
        "\n",
        "# Remove apostrophes from the 'Item' field\n",
        "data['Item'] = data['Item'].str.replace(\"'\", \"\")\n",
        "\n",
        "# Create a pivot table to convert the dataset into a transaction format\n",
        "basket = (data.groupby(['Transaction', 'Item'])['Item']\n",
        "          .count().unstack().reset_index().fillna(0)\n",
        "          .set_index('Transaction'))\n",
        "\n",
        "# Convert item counts to boolean values (True if item was bought in the transaction, False otherwise)\n",
        "basket_sets = basket.applymap(lambda x: True if x >= 1 else False)\n",
        "\n",
        "# Perform Apriori algorithm for frequent itemset generation\n",
        "# frequent_itemsets = apriori(basket_sets, min_support=0.01, use_colnames=True)\n",
        "frequent_itemsets = apriori(basket_sets, min_support=0.001, use_colnames=True)\n",
        "\n",
        "# Generate association rules\n",
        "association_rules_df = association_rules(frequent_itemsets,num_itemsets=data.shape[0], metric=\"lift\", min_threshold=0.5)\n",
        "\n",
        "# Convert frozensets to lists for better readability\n",
        "association_rules_df['antecedents'] = association_rules_df['antecedents'].apply(list)\n",
        "association_rules_df['consequents'] = association_rules_df['consequents'].apply(list)\n",
        "\n",
        "# Round support, confidence, and lift to three decimal places\n",
        "association_rules_df['support'] = association_rules_df['support'].round(3)\n",
        "association_rules_df['confidence'] = association_rules_df['confidence'].round(3)\n",
        "association_rules_df['lift'] = association_rules_df['lift'].round(3)\n",
        "\n",
        "# Filter rules where support and confidence are both >= 0.01\n",
        "filtered_rules_df = association_rules_df[(association_rules_df['support'] >= 0.001) & (association_rules_df['confidence'] >= 0.001)]\n",
        "\n",
        "# Filter rules where there is exactly one consequent\n",
        "filtered_rules_df = filtered_rules_df[filtered_rules_df['consequents'].apply(len) == 1]\n",
        "\n",
        "# Create a unique Rule ID for each rule in filtered_rules_df\n",
        "# filtered_rules_df['Rule_ID'] = range(1, len(filtered_rules_df) + 1)\n",
        "\n",
        "# See if this resolves the error\n",
        "# Create a unique Rule_ID for each rule in filtered_rules_df using .loc\n",
        "filtered_rules_df.loc[:, 'Rule_ID'] = range(1, len(filtered_rules_df) + 1)\n",
        "\n",
        "\n",
        "# Select only the desired columns\n",
        "selected_columns = ['Rule_ID', 'antecedents', 'consequents', 'support', 'confidence', 'lift']\n",
        "\n",
        "# Save the filtered association rules to a CSV file\n",
        "filtered_rules_df[selected_columns].to_csv('temp_association_rules.csv', index=False)\n",
        "\n",
        "# Remove the brackets and single quotes for easier processing in Tableau\n",
        "data2 = pd.read_csv('temp_association_rules.csv')\n",
        "\n",
        "# Remove square brackets from antecedents and consequents columns\n",
        "data2['antecedents'] = data2['antecedents'].str.strip(\"[]\").str.replace(\"'\", \"\")\n",
        "data2['consequents'] = data2['consequents'].str.strip(\"[]\").str.replace(\"'\", \"\")\n",
        "\n",
        "# Put a user-friendly rule description text in the file\n",
        "data2['RuleText'] = data2.apply(lambda row: f\"Rule {row['Rule_ID']}: {''.join(row['antecedents'])} -> {''.join(row['consequents'])}\", axis=1)\n",
        "\n",
        "# Write the updated DataFrame to a new CSV file\n",
        "data2.to_csv('association_rules_OUTPUT.csv', index=False)\n",
        "\n",
        "# Remove the temporary file\n",
        "os.remove('temp_association_rules.csv')\n",
        "\n",
        "# Print a message to the user that we're all done\n",
        "num_rows = len(data2)\n",
        "print(f\"\\n\\nGood news!  You generated {num_rows} association rules - you can download the output file now.\\n\")\n",
        "current_datetime = datetime.now()\n",
        "formatted_datetime = current_datetime.strftime(\"%Y-%m-%d %H:%M:%S\")\n",
        "print(f\"Runtime finished at {formatted_datetime}\")"
      ],
      "metadata": {
        "colab": {
          "base_uri": "https://localhost:8080/"
        },
        "id": "btsHZCoxpk4P",
        "outputId": "94b2089b-1900-42ef-d799-ce81f7e60697"
      },
      "execution_count": 2,
      "outputs": [
        {
          "output_type": "stream",
          "name": "stderr",
          "text": [
            "/tmp/ipython-input-3770340724.py:30: FutureWarning: DataFrame.applymap has been deprecated. Use DataFrame.map instead.\n",
            "  basket_sets = basket.applymap(lambda x: True if x >= 1 else False)\n"
          ]
        },
        {
          "output_type": "stream",
          "name": "stdout",
          "text": [
            "\n",
            "\n",
            "Good news!  You generated 967 association rules - you can download the output file now.\n",
            "\n",
            "Runtime finished at 2025-08-01 06:21:04\n"
          ]
        }
      ]
    }
  ]
}